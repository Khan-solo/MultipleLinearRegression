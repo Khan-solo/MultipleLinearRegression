{
  "nbformat": 4,
  "nbformat_minor": 0,
  "metadata": {
    "colab": {
      "name": "Multiple Linear Regression",
      "provenance": [],
      "collapsed_sections": [],
      "mount_file_id": "1NzYcPlEiovVcT6XcYNvtZ7bsLZoQCYzs",
      "authorship_tag": "ABX9TyNSymvhTzQ3gf248+KpbaQH",
      "include_colab_link": true
    },
    "kernelspec": {
      "name": "python3",
      "display_name": "Python 3"
    },
    "language_info": {
      "name": "python"
    }
  },
  "cells": [
    {
      "cell_type": "markdown",
      "metadata": {
        "id": "view-in-github",
        "colab_type": "text"
      },
      "source": [
        "<a href=\"https://colab.research.google.com/github/Khan-solo/MultipleLinearRegression/blob/main/Multiple_Linear_Regression.ipynb\" target=\"_parent\"><img src=\"https://colab.research.google.com/assets/colab-badge.svg\" alt=\"Open In Colab\"/></a>"
      ]
    },
    {
      "cell_type": "code",
      "metadata": {
        "id": "engPyNAkTTKE"
      },
      "source": [
        "import numpy as np\n",
        "import pandas as pd\n",
        "import matplotlib.pyplot as plt\n",
        "np.set_printoptions(precision=2) "
      ],
      "execution_count": 35,
      "outputs": []
    },
    {
      "cell_type": "code",
      "metadata": {
        "id": "7MdRYHObT6PB"
      },
      "source": [
        "dataset = pd.read_csv(\"/content/drive/MyDrive/Machine learning/Multiple Linear Regression/50_Startups.csv\")\n",
        "X = np.array(dataset.iloc[:, :-1])\n",
        "y = np.array(dataset.iloc[:, -1])"
      ],
      "execution_count": 36,
      "outputs": []
    },
    {
      "cell_type": "markdown",
      "metadata": {
        "id": "xbmOy7rgXdje"
      },
      "source": [
        "# Encoding Categorial Data"
      ]
    },
    {
      "cell_type": "code",
      "metadata": {
        "id": "CEFluBIeYAwo"
      },
      "source": [
        "from sklearn.compose import ColumnTransformer\n",
        "from sklearn.preprocessing import OneHotEncoder\n",
        "ct = ColumnTransformer(transformers=[('encoder' , OneHotEncoder(), [3])], remainder = \"passthrough\")\n",
        "X=np.array(ct.fit_transform(X))"
      ],
      "execution_count": 37,
      "outputs": []
    },
    {
      "cell_type": "markdown",
      "metadata": {
        "id": "VN3N7ueBYBit"
      },
      "source": [
        "# Splitting the data into Train and Test sets "
      ]
    },
    {
      "cell_type": "code",
      "metadata": {
        "id": "Zd2VIlwqWqt_"
      },
      "source": [
        "from sklearn.model_selection import train_test_split\n",
        "X_train, X_test, y_train, y_test = train_test_split(X, y, test_size= 0.2, random_state = 0)"
      ],
      "execution_count": 38,
      "outputs": []
    },
    {
      "cell_type": "markdown",
      "metadata": {
        "id": "T5Z-ZCH3ba3V"
      },
      "source": [
        "# Training Multiple Linear Regression Model "
      ]
    },
    {
      "cell_type": "code",
      "metadata": {
        "id": "uEisZpT_bgt8",
        "colab": {
          "base_uri": "https://localhost:8080/"
        },
        "outputId": "f5866758-2262-44bf-8566-8e5eccd22f4b"
      },
      "source": [
        "from sklearn.linear_model import LinearRegression\n",
        "regressor = LinearRegression()\n",
        "regressor.fit(X_train, y_train)"
      ],
      "execution_count": 39,
      "outputs": [
        {
          "output_type": "execute_result",
          "data": {
            "text/plain": [
              "LinearRegression(copy_X=True, fit_intercept=True, n_jobs=None, normalize=False)"
            ]
          },
          "metadata": {
            "tags": []
          },
          "execution_count": 39
        }
      ]
    },
    {
      "cell_type": "markdown",
      "metadata": {
        "id": "LtelKKjTZJAg"
      },
      "source": [
        "# Predicting the test set results"
      ]
    },
    {
      "cell_type": "code",
      "metadata": {
        "id": "x3o3tkH9ZL8x"
      },
      "source": [
        "y_pred = regressor.predict(X_test)\n",
        "print(np.concatenate((y_pred.reshape(len(y_pred),1), y_test.reshape(len(y_test),1)), 1))"
      ],
      "execution_count": null,
      "outputs": []
    }
  ]
}